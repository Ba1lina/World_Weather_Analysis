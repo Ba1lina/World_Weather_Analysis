{
 "cells": [
  {
   "cell_type": "markdown",
   "metadata": {},
   "source": [
    "# WeatherPy\n",
    "----"
   ]
  },
  {
   "cell_type": "code",
   "execution_count": 1,
   "metadata": {
    "scrolled": true
   },
   "outputs": [],
   "source": [
    "# Dependencies and Setup\n",
    "import matplotlib.pyplot as plt\n",
    "import pandas as pd\n",
    "import numpy as np\n",
    "import requests\n",
    "import time\n",
    "from scipy.stats import linregress\n",
    "import random\n",
    "import csv\n",
    "import json\n",
    "\n",
    "# Import API key\n",
    "from api_keys import weather_api_key\n",
    "\n",
    "# Incorporated citipy to determine city based on latitude and longitude\n",
    "from citipy import citipy\n",
    "\n",
    "# Output File (CSV)\n",
    "output_data_file = \"output_data/cities.csv\"\n",
    "\n",
    "# Range of latitudes and longitudes\n",
    "lat_range = (-90, 90)\n",
    "lng_range = (-180, 180)\n",
    "\n",
    "#Locking in a Random Seed\n",
    "random.seed(30)"
   ]
  },
  {
   "cell_type": "markdown",
   "metadata": {},
   "source": [
    "## Generate Cities List"
   ]
  },
  {
   "cell_type": "code",
   "execution_count": 2,
   "metadata": {},
   "outputs": [
    {
     "data": {
      "text/plain": [
       "588"
      ]
     },
     "execution_count": 2,
     "metadata": {},
     "output_type": "execute_result"
    }
   ],
   "source": [
    "# List for holding lat_lngs and cities\n",
    "lat_lngs = []\n",
    "cities = []\n",
    "\n",
    "# Create a set of random lat and lng combinations\n",
    "lats = np.random.uniform(lat_range[0], lat_range[1], size=1500)\n",
    "lngs = np.random.uniform(lng_range[0], lng_range[1], size=1500)\n",
    "lat_lngs = zip(lats, lngs)\n",
    "\n",
    "# Identify nearest city for each lat, lng combination\n",
    "for lat_lng in lat_lngs:\n",
    "    city = citipy.nearest_city(lat_lng[0], lat_lng[1]).city_name\n",
    "    \n",
    "    # If the city is unique, then add it to a our cities list\n",
    "    if city not in cities:\n",
    "        cities.append(city)\n",
    "\n",
    "# Print the city count to confirm sufficient count\n",
    "len(cities)"
   ]
  },
  {
   "cell_type": "markdown",
   "metadata": {},
   "source": [
    "### Perform API Calls\n",
    "* Perform a weather check on each city using a series of successive API calls.\n",
    "* Include a print log of each city as it's being processed (with the city number and city name).\n"
   ]
  },
  {
   "cell_type": "code",
   "execution_count": 3,
   "metadata": {},
   "outputs": [
    {
     "name": "stdout",
     "output_type": "stream",
     "text": [
      "Beginning Data Retrieval\n",
      "------------------------------\n",
      "Processing record |orlik\n",
      "Processing record |sunbury\n",
      "Processing record |nelson bay\n",
      "Processing record |merauke\n",
      "Processing record |marcona\n",
      "marcona not found. Skipping...\n",
      "Processing record |port alfred\n",
      "Processing record |barentsburg\n",
      "barentsburg not found. Skipping...\n",
      "Processing record |sabang\n",
      "Processing record |suda\n",
      "Processing record |albany\n",
      "Processing record |veroli\n",
      "Processing record |cape town\n",
      "Processing record |mataura\n",
      "Processing record |saldanha\n",
      "Processing record |vaini\n",
      "Processing record |punta arenas\n",
      "Processing record |college\n",
      "Processing record |bambous virieux\n",
      "Processing record |ponta do sol\n",
      "Processing record |busselton\n",
      "Processing record |ushuaia\n",
      "Processing record |faanui\n",
      "Processing record |vilyuysk\n",
      "Processing record |chokurdakh\n",
      "Processing record |champerico\n",
      "Processing record |port elizabeth\n",
      "Processing record |krasnyy luch\n",
      "Processing record |goderich\n",
      "Processing record |tuatapere\n",
      "Processing record |saleaula\n",
      "saleaula not found. Skipping...\n",
      "Processing record |georgetown\n",
      "Processing record |atuona\n",
      "Processing record |aitape\n",
      "Processing record |kaitangata\n",
      "Processing record |bacolod\n",
      "Processing record |kizukuri\n",
      "Processing record |hithadhoo\n",
      "Processing record |road town\n",
      "Processing record |kelo\n",
      "Processing record |kahului\n",
      "Processing record |karatau\n",
      "Processing record |manzhouli\n",
      "Processing record |umzimvubu\n",
      "umzimvubu not found. Skipping...\n",
      "Processing record |castro\n",
      "Processing record |toliary\n",
      "toliary not found. Skipping...\n",
      "Processing record |panama city\n",
      "Processing record |arraial do cabo\n",
      "Processing record |chuy\n",
      "Processing record |hobart\n",
      "Processing record |puerto ayora\n",
      "Processing record |kushima\n",
      "Processing record |nikolskoye\n",
      "Processing record |taolanaro\n",
      "taolanaro not found. Skipping...\n",
      "Processing record |lagoa\n",
      "Processing record |jamestown\n",
      "Processing record |hilo\n",
      "Processing record |port blair\n",
      "Processing record |mar del plata\n",
      "Processing record |mao\n",
      "Processing record |airai\n",
      "Processing record |borogontsy\n",
      "Processing record |sept-iles\n",
      "Processing record |rikitea\n",
      "Processing record |yar-sale\n",
      "Processing record |illoqqortoormiut\n",
      "illoqqortoormiut not found. Skipping...\n",
      "Processing record |tilichiki\n",
      "Processing record |alofi\n",
      "Processing record |tiksi\n",
      "Processing record |hermanus\n",
      "Processing record |provideniya\n",
      "Processing record |jumla\n",
      "Processing record |new norfolk\n",
      "Processing record |bilma\n",
      "Processing record |poum\n",
      "Processing record |ancud\n",
      "Processing record |coihaique\n",
      "Processing record |narsaq\n",
      "Processing record |portland\n",
      "Processing record |omsukchan\n",
      "Processing record |iki-burul\n",
      "Processing record |lata\n",
      "Processing record |san nicolas\n",
      "Processing record |warqla\n",
      "warqla not found. Skipping...\n",
      "Processing record |aklavik\n",
      "Processing record |kruisfontein\n",
      "Processing record |kapaa\n",
      "Processing record |vila velha\n",
      "Processing record |san quintin\n",
      "Processing record |amderma\n",
      "amderma not found. Skipping...\n",
      "Processing record |barrow\n",
      "Processing record |matay\n",
      "Processing record |esperance\n",
      "Processing record |la rioja\n",
      "Processing record |san jose\n",
      "Processing record |tuktoyaktuk\n",
      "Processing record |pevek\n",
      "Processing record |calvinia\n",
      "Processing record |fort nelson\n",
      "Processing record |attawapiskat\n",
      "attawapiskat not found. Skipping...\n",
      "Processing record |hervey bay\n",
      "Processing record |hami\n",
      "Processing record |kamenka\n",
      "Processing record |belushya guba\n",
      "belushya guba not found. Skipping...\n",
      "Processing record |lodja\n",
      "Processing record |ilhabela\n",
      "Processing record |atbasar\n",
      "Processing record |butaritari\n",
      "Processing record |eureka\n",
      "Processing record |newport\n",
      "Processing record |toungoo\n",
      "toungoo not found. Skipping...\n",
      "Processing record |virginia beach\n",
      "Processing record |urucara\n",
      "Processing record |phalaborwa\n",
      "Processing record |natal\n",
      "Processing record |grindavik\n",
      "Processing record |ilulissat\n",
      "Processing record |comodoro rivadavia\n",
      "Processing record |klaksvik\n",
      "Processing record |ozernovskiy\n",
      "Processing record |abha\n",
      "Processing record |tizayuca\n",
      "Processing record |longyearbyen\n",
      "Processing record |saint george\n",
      "Processing record |sitka\n",
      "Processing record |biak\n",
      "Processing record |arona\n",
      "Processing record |dingle\n",
      "Processing record |bredasdorp\n",
      "Processing record |monroe\n",
      "Processing record |tolaga bay\n",
      "Processing record |usinsk\n",
      "Processing record |chara\n",
      "Processing record |labuhan\n",
      "Processing record |bethel\n",
      "Processing record |tumannyy\n",
      "tumannyy not found. Skipping...\n",
      "Processing record |viedma\n",
      "Processing record |severo-kurilsk\n",
      "Processing record |east london\n",
      "Processing record |chagda\n",
      "chagda not found. Skipping...\n",
      "Processing record |upernavik\n",
      "Processing record |bluff\n",
      "Processing record |teshie\n",
      "Processing record |geraldton\n",
      "Processing record |avarua\n",
      "Processing record |barbar\n",
      "barbar not found. Skipping...\n",
      "Processing record |la orilla\n",
      "Processing record |qaanaaq\n",
      "Processing record |harper\n",
      "Processing record |belaya gora\n",
      "Processing record |los llanos de aridane\n",
      "Processing record |jammu\n",
      "Processing record |luohe\n",
      "Processing record |gogrial\n",
      "Processing record |mogadishu\n",
      "Processing record |mapiripan\n",
      "Processing record |saryg-sep\n",
      "Processing record |clyde river\n",
      "Processing record |louisbourg\n",
      "louisbourg not found. Skipping...\n",
      "Processing record |ternate\n",
      "Processing record |christchurch\n",
      "Processing record |scarborough\n",
      "Processing record |bonavista\n",
      "Processing record |gonda\n",
      "Processing record |mikumi\n",
      "Processing record |yellowknife\n",
      "Processing record |uwayl\n",
      "uwayl not found. Skipping...\n",
      "Processing record |najran\n",
      "Processing record |basoko\n",
      "Processing record |dakar\n",
      "Processing record |wajir\n",
      "Processing record |tynda\n",
      "Processing record |bur gabo\n",
      "bur gabo not found. Skipping...\n",
      "Processing record |torbay\n",
      "Processing record |thompson\n",
      "Processing record |gualeguay\n",
      "Processing record |aswan\n",
      "Processing record |palu\n",
      "Processing record |vardo\n",
      "Processing record |saint-philippe\n",
      "Processing record |camacha\n",
      "Processing record |grand centre\n",
      "grand centre not found. Skipping...\n",
      "Processing record |codrington\n",
      "Processing record |isangel\n",
      "Processing record |touba\n",
      "Processing record |utiroa\n",
      "utiroa not found. Skipping...\n",
      "Processing record |turtkul\n",
      "turtkul not found. Skipping...\n",
      "Processing record |constitucion\n",
      "Processing record |palmer\n",
      "Processing record |iqaluit\n",
      "Processing record |tasiilaq\n",
      "Processing record |kodiak\n",
      "Processing record |bilibino\n",
      "Processing record |ambon\n",
      "Processing record |leshukonskoye\n",
      "Processing record |kinna\n",
      "Processing record |biskupiec\n",
      "Processing record |harpanahalli\n",
      "Processing record |husavik\n",
      "Processing record |grand river south east\n",
      "grand river south east not found. Skipping...\n",
      "Processing record |kandrian\n",
      "Processing record |shimanovsk\n",
      "Processing record |stade\n",
      "Processing record |cairns\n",
      "Processing record |dikson\n",
      "Processing record |ceres\n",
      "Processing record |vejalpur\n",
      "Processing record |porto novo\n",
      "Processing record |zhezkazgan\n",
      "Processing record |maniitsoq\n",
      "Processing record |ribeira grande\n",
      "Processing record |port hawkesbury\n",
      "Processing record |pervomayskiy\n",
      "Processing record |adrar\n",
      "Processing record |avera\n",
      "Processing record |derzhavinsk\n",
      "Processing record |xai-xai\n",
      "Processing record |cherskiy\n",
      "Processing record |axim\n",
      "Processing record |nabire\n",
      "Processing record |port augusta\n",
      "Processing record |nuuk\n",
      "Processing record |shubarkuduk\n",
      "Processing record |cabo san lucas\n",
      "Processing record |praia da vitoria\n",
      "Processing record |talavera de la reina\n",
      "Processing record |barreirinhas\n",
      "Processing record |guerrero negro\n",
      "Processing record |asosa\n",
      "Processing record |kalabo\n",
      "Processing record |aplahoue\n",
      "Processing record |cam ranh\n",
      "Processing record |healdsburg\n",
      "Processing record |gobabis\n",
      "Processing record |lebu\n",
      "Processing record |mys shmidta\n",
      "mys shmidta not found. Skipping...\n",
      "Processing record |prado\n",
      "Processing record |malwan\n",
      "malwan not found. Skipping...\n",
      "Processing record |nizhneyansk\n",
      "nizhneyansk not found. Skipping...\n",
      "Processing record |ahipara\n",
      "Processing record |krasnovishersk\n",
      "Processing record |komsomolets\n",
      "Processing record |ponta delgada\n",
      "Processing record |tautira\n",
      "Processing record |pinhao\n",
      "Processing record |potosi\n",
      "Processing record |kenai\n",
      "Processing record |sinnamary\n",
      "Processing record |cayenne\n",
      "Processing record |kuche\n",
      "kuche not found. Skipping...\n",
      "Processing record |brae\n",
      "Processing record |moose factory\n",
      "Processing record |fortuna\n",
      "Processing record |torit\n",
      "Processing record |el fuerte\n",
      "Processing record |paragominas\n",
      "Processing record |mala\n",
      "Processing record |farap\n",
      "Processing record |bana\n"
     ]
    },
    {
     "name": "stdout",
     "output_type": "stream",
     "text": [
      "Processing record |khatanga\n",
      "Processing record |alice springs\n",
      "Processing record |gerede\n",
      "Processing record |mahebourg\n",
      "Processing record |cockburn town\n",
      "Processing record |quzhou\n",
      "Processing record |changping\n",
      "Processing record |lolua\n",
      "lolua not found. Skipping...\n",
      "Processing record |koslan\n",
      "Processing record |maceio\n",
      "Processing record |paracuru\n",
      "Processing record |cody\n",
      "Processing record |umm kaddadah\n",
      "Processing record |kangaatsiaq\n",
      "Processing record |kuryk\n",
      "Processing record |port lincoln\n",
      "Processing record |byron bay\n",
      "Processing record |norman wells\n",
      "Processing record |rawson\n",
      "Processing record |tsihombe\n",
      "tsihombe not found. Skipping...\n",
      "Processing record |bahia blanca\n",
      "Processing record |broome\n",
      "Processing record |bembereke\n",
      "Processing record |ust-tsilma\n",
      "Processing record |eyl\n",
      "Processing record |dera din panah\n",
      "dera din panah not found. Skipping...\n",
      "Processing record |corlu\n",
      "Processing record |salinopolis\n",
      "Processing record |tanout\n",
      "Processing record |coalinga\n",
      "Processing record |eirunepe\n",
      "Processing record |nanortalik\n",
      "Processing record |beloha\n",
      "Processing record |luderitz\n",
      "Processing record |faya\n",
      "Processing record |san carlos de bariloche\n",
      "Processing record |carlagan\n",
      "Processing record |cabedelo\n",
      "Processing record |foshan\n",
      "Processing record |kurilsk\n",
      "Processing record |pangnirtung\n",
      "Processing record |isiolo\n",
      "Processing record |dunnville\n",
      "Processing record |thomasville\n",
      "Processing record |jiguani\n",
      "Processing record |kingman\n",
      "Processing record |meyungs\n",
      "meyungs not found. Skipping...\n",
      "Processing record |grand gaube\n",
      "Processing record |padang\n",
      "Processing record |shimoda\n",
      "Processing record |mayo\n",
      "Processing record |saskylakh\n",
      "Processing record |trincomalee\n",
      "Processing record |vaitape\n",
      "Processing record |azangaro\n",
      "Processing record |saint-leu\n",
      "Processing record |north bend\n",
      "Processing record |vestmannaeyjar\n",
      "Processing record |eseka\n",
      "Processing record |yumen\n",
      "Processing record |crystal lake\n",
      "Processing record |abalak\n",
      "Processing record |sinazongwe\n",
      "Processing record |machilipatnam\n",
      "Processing record |beringovskiy\n",
      "Processing record |dianopolis\n",
      "dianopolis not found. Skipping...\n",
      "Processing record |batticaloa\n",
      "Processing record |matane\n",
      "Processing record |conakry\n",
      "Processing record |vaitupu\n",
      "vaitupu not found. Skipping...\n",
      "Processing record |fevralsk\n",
      "fevralsk not found. Skipping...\n",
      "Processing record |senanga\n",
      "Processing record |khash\n",
      "Processing record |tiruvottiyur\n",
      "tiruvottiyur not found. Skipping...\n",
      "Processing record |otane\n",
      "Processing record |bengkulu\n",
      "Processing record |northam\n",
      "Processing record |ojinaga\n",
      "Processing record |varzea da palma\n",
      "Processing record |les cayes\n",
      "Processing record |namibe\n",
      "Processing record |ngukurr\n",
      "ngukurr not found. Skipping...\n",
      "Processing record |moussoro\n",
      "Processing record |tatsinskaya\n",
      "tatsinskaya not found. Skipping...\n",
      "Processing record |lubango\n",
      "Processing record |hambantota\n",
      "Processing record |camara de lobos\n",
      "Processing record |auki\n",
      "Processing record |taoudenni\n",
      "Processing record |san patricio\n",
      "Processing record |amga\n",
      "Processing record |muros\n",
      "Processing record |tak\n",
      "Processing record |victoria\n",
      "Processing record |rocha\n",
      "Processing record |anadyr\n",
      "Processing record |samusu\n",
      "samusu not found. Skipping...\n",
      "Processing record |margate\n",
      "Processing record |tabiauea\n",
      "tabiauea not found. Skipping...\n",
      "Processing record |nouadhibou\n",
      "Processing record |woodward\n",
      "Processing record |vestmanna\n",
      "Processing record |hualmay\n",
      "Processing record |la asuncion\n",
      "Processing record |novobelokatay\n",
      "Processing record |san cristobal\n",
      "Processing record |ksenyevka\n",
      "ksenyevka not found. Skipping...\n",
      "Processing record |mago\n",
      "Processing record |taldan\n",
      "Processing record |gigant\n",
      "Processing record |ruy barbosa\n",
      "Processing record |hunza\n",
      "hunza not found. Skipping...\n",
      "Processing record |cuiluan\n",
      "Processing record |bathsheba\n",
      "Processing record |winchester\n",
      "Processing record |gamba\n",
      "Processing record |chicama\n",
      "Processing record |suicheng\n",
      "Processing record |umm lajj\n",
      "Processing record |carnarvon\n",
      "Processing record |saint-francois\n",
      "Processing record |hofn\n",
      "Processing record |skalistyy\n",
      "skalistyy not found. Skipping...\n",
      "Processing record |hope\n",
      "Processing record |dhandhuka\n",
      "Processing record |karratha\n",
      "Processing record |grajau\n",
      "Processing record |vila franca do campo\n",
      "Processing record |san felipe\n",
      "Processing record |caruray\n",
      "Processing record |marzuq\n",
      "Processing record |port hardy\n",
      "Processing record |carballo\n",
      "Processing record |zhigansk\n",
      "Processing record |teguise\n",
      "Processing record |nador\n",
      "Processing record |naze\n",
      "Processing record |nakasongola\n",
      "Processing record |yerbogachen\n",
      "Processing record |mount gambier\n",
      "Processing record |khormuj\n",
      "khormuj not found. Skipping...\n",
      "Processing record |tonj\n",
      "Processing record |sao jose da coroa grande\n",
      "Processing record |sao filipe\n",
      "Processing record |ilorin\n",
      "Processing record |yenagoa\n",
      "Processing record |touros\n",
      "Processing record |emba\n",
      "Processing record |fremont\n",
      "Processing record |mount isa\n",
      "Processing record |afmadu\n",
      "afmadu not found. Skipping...\n",
      "Processing record |uchiza\n",
      "Processing record |anticala\n",
      "Processing record |bure\n",
      "Processing record |san-pedro\n",
      "Processing record |indianola\n",
      "Processing record |tari\n",
      "Processing record |sigerfjord\n",
      "sigerfjord not found. Skipping...\n",
      "Processing record |lodi\n",
      "Processing record |sentyabrskiy\n",
      "sentyabrskiy not found. Skipping...\n",
      "Processing record |pisco\n",
      "Processing record |estelle\n",
      "Processing record |mangan\n",
      "Processing record |atar\n",
      "Processing record |ankang\n",
      "Processing record |miura\n",
      "Processing record |sapulpa\n",
      "Processing record |karaul\n",
      "karaul not found. Skipping...\n",
      "Processing record |palabuhanratu\n",
      "palabuhanratu not found. Skipping...\n",
      "Processing record |kostomuksha\n",
      "Processing record |ballina\n",
      "Processing record |novikovo\n",
      "Processing record |taltal\n",
      "Processing record |ginda\n",
      "Processing record |shrigonda\n",
      "Processing record |udachnyy\n",
      "Processing record |cantagalo\n",
      "Processing record |ezeris\n",
      "Processing record |caravelas\n",
      "Processing record |gimli\n",
      "Processing record |halkirk\n",
      "Processing record |kashi\n",
      "Processing record |rasulnagar\n",
      "Processing record |olbia\n",
      "Processing record |olinda\n",
      "Processing record |uthal\n",
      "Processing record |reconquista\n",
      "Processing record |severobaykalsk\n",
      "Processing record |kerki\n",
      "kerki not found. Skipping...\n",
      "Processing record |elliot lake\n",
      "Processing record |khonuu\n",
      "khonuu not found. Skipping...\n",
      "Processing record |kailua\n",
      "Processing record |gornopravdinsk\n",
      "Processing record |gorkovskoye\n",
      "gorkovskoye not found. Skipping...\n",
      "Processing record |gold coast\n",
      "Processing record |prince rupert\n",
      "Processing record |maarianhamina\n",
      "Processing record |wichita falls\n",
      "Processing record |walvis bay\n",
      "Processing record |necochea\n",
      "Processing record |gillette\n",
      "Processing record |viet tri\n",
      "Processing record |soe\n",
      "Processing record |kushiro\n",
      "Processing record |russell\n",
      "Processing record |haines junction\n",
      "Processing record |batagay\n",
      "Processing record |jodhpur\n",
      "Processing record |imbituba\n",
      "Processing record |rio gallegos\n",
      "Processing record |puerto escondido\n",
      "Processing record |qingdao\n",
      "Processing record |ouadda\n",
      "Processing record |kurunegala\n",
      "Processing record |ugoofaaru\n",
      "Processing record |muli\n",
      "Processing record |digha\n",
      "Processing record |bandarbeyla\n",
      "Processing record |gangotri\n",
      "gangotri not found. Skipping...\n",
      "Processing record |san vicente\n",
      "Processing record |samarai\n",
      "Processing record |daru\n",
      "Processing record |le vauclin\n",
      "Processing record |ngunguru\n",
      "Processing record |mimoso do sul\n",
      "Processing record |ler\n",
      "Processing record |cidreira\n",
      "Processing record |avanigadda\n",
      "Processing record |plettenberg bay\n",
      "Processing record |fuyang\n",
      "Processing record |maloshuyka\n",
      "maloshuyka not found. Skipping...\n",
      "Processing record |adjumani\n",
      "Processing record |big rapids\n",
      "Processing record |buala\n",
      "Processing record |srednekolymsk\n",
      "Processing record |lorengau\n",
      "Processing record |long\n",
      "Processing record |manavgat\n",
      "Processing record |samokov\n",
      "Processing record |havoysund\n",
      "Processing record |castelo do piaui\n",
      "Processing record |kirakira\n",
      "Processing record |hohhot\n",
      "Processing record |namatanai\n",
      "Processing record |kinlochleven\n",
      "Processing record |chama\n",
      "Processing record |nichinan\n",
      "Processing record |lompoc\n",
      "Processing record |dudinka\n",
      "Processing record |gallup\n",
      "Processing record |talnakh\n",
      "Processing record |tabou\n",
      "Processing record |santo amaro da imperatriz\n",
      "Processing record |santa rosalia\n",
      "Processing record |chapais\n",
      "Processing record |istok\n",
      "Processing record |coffs harbour\n",
      "Processing record |omboue\n",
      "Processing record |kumluca\n",
      "Processing record |calama\n"
     ]
    },
    {
     "name": "stdout",
     "output_type": "stream",
     "text": [
      "Processing record |turukhansk\n",
      "Processing record |solnechnyy\n",
      "Processing record |sao benedito do rio preto\n",
      "Processing record |shache\n",
      "Processing record |kargasok\n",
      "Processing record |yichun\n",
      "Processing record |luwuk\n",
      "Processing record |north battleford\n",
      "Processing record |san angelo\n",
      "Processing record |balaipungut\n",
      "Processing record |robertson\n",
      "Processing record |temaraia\n",
      "temaraia not found. Skipping...\n",
      "Processing record |kentau\n",
      "Processing record |yima\n",
      "Processing record |koumac\n",
      "Processing record |hiroshima\n",
      "Processing record |deer lake\n",
      "Processing record |urucurituba\n",
      "Processing record |albert lea\n",
      "Processing record |tanshui\n",
      "tanshui not found. Skipping...\n",
      "Processing record |huadian\n",
      "Processing record |nacala\n",
      "Processing record |bukene\n",
      "Processing record |leningradskiy\n",
      "Processing record |marale\n",
      "Processing record |kavieng\n",
      "Processing record |puerto maldonado\n",
      "Processing record |itarema\n",
      "Processing record |simpang\n",
      "Processing record |lavrentiya\n",
      "Processing record |katsuura\n",
      "Processing record |tura\n",
      "Processing record |kishtwar\n",
      "Processing record |mayumba\n",
      "Processing record |melbu\n",
      "Processing record |dawson creek\n",
      "Processing record |mareeba\n",
      "Processing record |kunya\n",
      "Processing record |avdon\n",
      "Processing record |kristiinankaupunki\n",
      "Processing record |dinga\n",
      "Processing record |dno\n",
      "Processing record |asyut\n",
      "Processing record |cururupu\n",
      "Processing record |independence\n",
      "Processing record |huntsville\n",
      "Processing record |palembang\n",
      "Processing record |yuanping\n",
      "Processing record |kasongo-lunda\n",
      "Processing record |san policarpo\n",
      "Processing record |ust-kuyga\n",
      "Processing record |port antonio\n",
      "Processing record |aksu\n",
      "Processing record |labutta\n",
      "labutta not found. Skipping...\n",
      "Processing record |aksarka\n",
      "Processing record |birao\n",
      "Processing record |lasa\n",
      "Processing record |kharan\n",
      "Processing record |fukue\n",
      "Processing record |gizo\n",
      "Processing record |bandundu\n",
      "Processing record |meadow lake\n",
      "Processing record |tarabuco\n",
      "Processing record |presque isle\n",
      "Processing record |lamu\n",
      "Processing record |maragogi\n",
      "Processing record |nizwa\n",
      "Processing record |deputatskiy\n",
      "Processing record |sola\n",
      "Processing record |santa maria\n",
      "------------------------------\n",
      "Ending Data Retrieval\n",
      "------------------------------\n"
     ]
    }
   ],
   "source": [
    "# Identify the URL and the query url\n",
    "url = \"https://api.openweathermap.org/data/2.5/weather?units=metric&appid=\"\n",
    "query_url = url + weather_api_key +\"&q=\"\n",
    "\n",
    "# Empty lists to group data\n",
    "city_name = []\n",
    "Lat = []\n",
    "Long = []\n",
    "Max_Temp = []\n",
    "Humidity = []\n",
    "Cloudiness = []\n",
    "Wind_Speed = []\n",
    "Country = []\n",
    "Date = []\n",
    "\n",
    "# Begin for loop, append relevant data and print log\n",
    "print(\"Beginning Data Retrieval\")\n",
    "print(\"-\"*30)\n",
    "for city in cities:\n",
    "    try:\n",
    "        response = requests.get(query_url + city).json()\n",
    "        print(\"Processing record |\" + city)\n",
    "        city_name.append(response[\"name\"])\n",
    "        Lat.append(response[\"coord\"][\"lat\"])\n",
    "        Long.append(response[\"coord\"][\"lon\"])\n",
    "        Max_Temp.append(response[\"main\"][\"temp_max\"])\n",
    "        Humidity.append(response[\"main\"][\"humidity\"])\n",
    "        Cloudiness.append(response[\"clouds\"][\"all\"])\n",
    "        Wind_Speed.append(response[\"wind\"][\"speed\"])\n",
    "        Country.append(response[\"sys\"][\"country\"])\n",
    "        Date.append(response[\"dt\"])\n",
    "    except:\n",
    "        print(city + \" not found. Skipping...\")\n",
    "print(\"-\"*30)\n",
    "print(\"Ending Data Retrieval\")\n",
    "print(\"-\"*30)"
   ]
  },
  {
   "cell_type": "markdown",
   "metadata": {},
   "source": [
    "### Convert Raw Data to DataFrame\n",
    "* Export the city data into a .csv.\n",
    "* Display the DataFrame"
   ]
  },
  {
   "cell_type": "code",
   "execution_count": 4,
   "metadata": {},
   "outputs": [
    {
     "data": {
      "text/html": [
       "<div>\n",
       "<style scoped>\n",
       "    .dataframe tbody tr th:only-of-type {\n",
       "        vertical-align: middle;\n",
       "    }\n",
       "\n",
       "    .dataframe tbody tr th {\n",
       "        vertical-align: top;\n",
       "    }\n",
       "\n",
       "    .dataframe thead th {\n",
       "        text-align: right;\n",
       "    }\n",
       "</style>\n",
       "<table border=\"1\" class=\"dataframe\">\n",
       "  <thead>\n",
       "    <tr style=\"text-align: right;\">\n",
       "      <th></th>\n",
       "      <th>City Name</th>\n",
       "      <th>Latitude</th>\n",
       "      <th>Longtitude</th>\n",
       "      <th>Max Temperature</th>\n",
       "      <th>Humidity</th>\n",
       "      <th>Cloudiness</th>\n",
       "      <th>Wind Speed</th>\n",
       "      <th>Country</th>\n",
       "      <th>Date</th>\n",
       "    </tr>\n",
       "  </thead>\n",
       "  <tbody>\n",
       "    <tr>\n",
       "      <th>0</th>\n",
       "      <td>Orlik</td>\n",
       "      <td>52.5178</td>\n",
       "      <td>99.8250</td>\n",
       "      <td>19.41</td>\n",
       "      <td>46</td>\n",
       "      <td>100</td>\n",
       "      <td>0.94</td>\n",
       "      <td>RU</td>\n",
       "      <td>1659957415</td>\n",
       "    </tr>\n",
       "    <tr>\n",
       "      <th>1</th>\n",
       "      <td>Sunbury</td>\n",
       "      <td>-37.5833</td>\n",
       "      <td>144.7333</td>\n",
       "      <td>7.90</td>\n",
       "      <td>78</td>\n",
       "      <td>20</td>\n",
       "      <td>0.45</td>\n",
       "      <td>AU</td>\n",
       "      <td>1659957416</td>\n",
       "    </tr>\n",
       "    <tr>\n",
       "      <th>2</th>\n",
       "      <td>Nelson Bay</td>\n",
       "      <td>-32.7167</td>\n",
       "      <td>152.1500</td>\n",
       "      <td>14.49</td>\n",
       "      <td>77</td>\n",
       "      <td>11</td>\n",
       "      <td>4.92</td>\n",
       "      <td>AU</td>\n",
       "      <td>1659957417</td>\n",
       "    </tr>\n",
       "    <tr>\n",
       "      <th>3</th>\n",
       "      <td>Merauke</td>\n",
       "      <td>-8.4667</td>\n",
       "      <td>140.3333</td>\n",
       "      <td>25.59</td>\n",
       "      <td>77</td>\n",
       "      <td>40</td>\n",
       "      <td>7.78</td>\n",
       "      <td>ID</td>\n",
       "      <td>1659957417</td>\n",
       "    </tr>\n",
       "    <tr>\n",
       "      <th>4</th>\n",
       "      <td>Port Alfred</td>\n",
       "      <td>-33.5906</td>\n",
       "      <td>26.8910</td>\n",
       "      <td>17.88</td>\n",
       "      <td>90</td>\n",
       "      <td>91</td>\n",
       "      <td>3.13</td>\n",
       "      <td>ZA</td>\n",
       "      <td>1659957418</td>\n",
       "    </tr>\n",
       "  </tbody>\n",
       "</table>\n",
       "</div>"
      ],
      "text/plain": [
       "     City Name  Latitude  Longtitude  Max Temperature  Humidity  Cloudiness  \\\n",
       "0        Orlik   52.5178     99.8250            19.41        46         100   \n",
       "1      Sunbury  -37.5833    144.7333             7.90        78          20   \n",
       "2   Nelson Bay  -32.7167    152.1500            14.49        77          11   \n",
       "3      Merauke   -8.4667    140.3333            25.59        77          40   \n",
       "4  Port Alfred  -33.5906     26.8910            17.88        90          91   \n",
       "\n",
       "   Wind Speed Country        Date  \n",
       "0        0.94      RU  1659957415  \n",
       "1        0.45      AU  1659957416  \n",
       "2        4.92      AU  1659957417  \n",
       "3        7.78      ID  1659957417  \n",
       "4        3.13      ZA  1659957418  "
      ]
     },
     "execution_count": 4,
     "metadata": {},
     "output_type": "execute_result"
    }
   ],
   "source": [
    "# Gather the data and convert into a dataframe\n",
    "cities_dict = ({\n",
    "    \"City Name\":city_name,\n",
    "    \"Latitude\":Lat,\n",
    "    \"Longtitude\":Long,\n",
    "    \"Max Temperature\":Max_Temp,\n",
    "    \"Humidity\":Humidity,\n",
    "    \"Cloudiness\":Cloudiness,\n",
    "    \"Wind Speed\":Wind_Speed,\n",
    "    \"Country\":Country,\n",
    "    \"Date\":Date\n",
    "})\n",
    "\n",
    "cities_df=pd.DataFrame(cities_dict)\n",
    "cities_df.head()"
   ]
  },
  {
   "cell_type": "code",
   "execution_count": 5,
   "metadata": {},
   "outputs": [
    {
     "data": {
      "text/html": [
       "<div>\n",
       "<style scoped>\n",
       "    .dataframe tbody tr th:only-of-type {\n",
       "        vertical-align: middle;\n",
       "    }\n",
       "\n",
       "    .dataframe tbody tr th {\n",
       "        vertical-align: top;\n",
       "    }\n",
       "\n",
       "    .dataframe thead th {\n",
       "        text-align: right;\n",
       "    }\n",
       "</style>\n",
       "<table border=\"1\" class=\"dataframe\">\n",
       "  <thead>\n",
       "    <tr style=\"text-align: right;\">\n",
       "      <th></th>\n",
       "      <th>Latitude</th>\n",
       "      <th>Longtitude</th>\n",
       "      <th>Max Temperature</th>\n",
       "      <th>Humidity</th>\n",
       "      <th>Cloudiness</th>\n",
       "      <th>Wind Speed</th>\n",
       "      <th>Date</th>\n",
       "    </tr>\n",
       "  </thead>\n",
       "  <tbody>\n",
       "    <tr>\n",
       "      <th>count</th>\n",
       "      <td>533.000000</td>\n",
       "      <td>533.000000</td>\n",
       "      <td>533.000000</td>\n",
       "      <td>533.000000</td>\n",
       "      <td>533.000000</td>\n",
       "      <td>533.000000</td>\n",
       "      <td>5.330000e+02</td>\n",
       "    </tr>\n",
       "    <tr>\n",
       "      <th>mean</th>\n",
       "      <td>19.459843</td>\n",
       "      <td>17.241901</td>\n",
       "      <td>21.658311</td>\n",
       "      <td>69.731707</td>\n",
       "      <td>57.215760</td>\n",
       "      <td>3.602552</td>\n",
       "      <td>1.659958e+09</td>\n",
       "    </tr>\n",
       "    <tr>\n",
       "      <th>std</th>\n",
       "      <td>32.989353</td>\n",
       "      <td>90.936850</td>\n",
       "      <td>8.770183</td>\n",
       "      <td>22.335473</td>\n",
       "      <td>38.091258</td>\n",
       "      <td>2.472466</td>\n",
       "      <td>1.126806e+02</td>\n",
       "    </tr>\n",
       "    <tr>\n",
       "      <th>min</th>\n",
       "      <td>-54.800000</td>\n",
       "      <td>-175.200000</td>\n",
       "      <td>-4.520000</td>\n",
       "      <td>8.000000</td>\n",
       "      <td>0.000000</td>\n",
       "      <td>0.000000</td>\n",
       "      <td>1.659957e+09</td>\n",
       "    </tr>\n",
       "    <tr>\n",
       "      <th>25%</th>\n",
       "      <td>-6.216700</td>\n",
       "      <td>-60.838800</td>\n",
       "      <td>15.570000</td>\n",
       "      <td>59.000000</td>\n",
       "      <td>20.000000</td>\n",
       "      <td>1.760000</td>\n",
       "      <td>1.659957e+09</td>\n",
       "    </tr>\n",
       "    <tr>\n",
       "      <th>50%</th>\n",
       "      <td>22.285500</td>\n",
       "      <td>19.234500</td>\n",
       "      <td>24.090000</td>\n",
       "      <td>76.000000</td>\n",
       "      <td>70.000000</td>\n",
       "      <td>3.090000</td>\n",
       "      <td>1.659958e+09</td>\n",
       "    </tr>\n",
       "    <tr>\n",
       "      <th>75%</th>\n",
       "      <td>46.383400</td>\n",
       "      <td>98.833300</td>\n",
       "      <td>27.480000</td>\n",
       "      <td>87.000000</td>\n",
       "      <td>97.000000</td>\n",
       "      <td>4.710000</td>\n",
       "      <td>1.659958e+09</td>\n",
       "    </tr>\n",
       "    <tr>\n",
       "      <th>max</th>\n",
       "      <td>78.218600</td>\n",
       "      <td>179.316700</td>\n",
       "      <td>44.720000</td>\n",
       "      <td>100.000000</td>\n",
       "      <td>100.000000</td>\n",
       "      <td>14.680000</td>\n",
       "      <td>1.659958e+09</td>\n",
       "    </tr>\n",
       "  </tbody>\n",
       "</table>\n",
       "</div>"
      ],
      "text/plain": [
       "         Latitude  Longtitude  Max Temperature    Humidity  Cloudiness  \\\n",
       "count  533.000000  533.000000       533.000000  533.000000  533.000000   \n",
       "mean    19.459843   17.241901        21.658311   69.731707   57.215760   \n",
       "std     32.989353   90.936850         8.770183   22.335473   38.091258   \n",
       "min    -54.800000 -175.200000        -4.520000    8.000000    0.000000   \n",
       "25%     -6.216700  -60.838800        15.570000   59.000000   20.000000   \n",
       "50%     22.285500   19.234500        24.090000   76.000000   70.000000   \n",
       "75%     46.383400   98.833300        27.480000   87.000000   97.000000   \n",
       "max     78.218600  179.316700        44.720000  100.000000  100.000000   \n",
       "\n",
       "       Wind Speed          Date  \n",
       "count  533.000000  5.330000e+02  \n",
       "mean     3.602552  1.659958e+09  \n",
       "std      2.472466  1.126806e+02  \n",
       "min      0.000000  1.659957e+09  \n",
       "25%      1.760000  1.659957e+09  \n",
       "50%      3.090000  1.659958e+09  \n",
       "75%      4.710000  1.659958e+09  \n",
       "max     14.680000  1.659958e+09  "
      ]
     },
     "execution_count": 5,
     "metadata": {},
     "output_type": "execute_result"
    }
   ],
   "source": [
    "# Confirm output file and export data into a csv\n",
    "output_csv='../output_data/cities.csv'\n",
    "\n",
    "cities_df.to_csv(output_csv,header=True,index=False)\n",
    "cities_df.describe()"
   ]
  },
  {
   "cell_type": "markdown",
   "metadata": {},
   "source": [
    "## Inspect the data and remove the cities where the humidity > 100%."
   ]
  },
  {
   "cell_type": "code",
   "execution_count": 6,
   "metadata": {},
   "outputs": [
    {
     "data": {
      "text/html": [
       "<div>\n",
       "<style scoped>\n",
       "    .dataframe tbody tr th:only-of-type {\n",
       "        vertical-align: middle;\n",
       "    }\n",
       "\n",
       "    .dataframe tbody tr th {\n",
       "        vertical-align: top;\n",
       "    }\n",
       "\n",
       "    .dataframe thead th {\n",
       "        text-align: right;\n",
       "    }\n",
       "</style>\n",
       "<table border=\"1\" class=\"dataframe\">\n",
       "  <thead>\n",
       "    <tr style=\"text-align: right;\">\n",
       "      <th></th>\n",
       "      <th>City Name</th>\n",
       "      <th>Latitude</th>\n",
       "      <th>Longtitude</th>\n",
       "      <th>Max Temperature</th>\n",
       "      <th>Humidity</th>\n",
       "      <th>Cloudiness</th>\n",
       "      <th>Wind Speed</th>\n",
       "      <th>Country</th>\n",
       "      <th>Date</th>\n",
       "    </tr>\n",
       "  </thead>\n",
       "  <tbody>\n",
       "  </tbody>\n",
       "</table>\n",
       "</div>"
      ],
      "text/plain": [
       "Empty DataFrame\n",
       "Columns: [City Name, Latitude, Longtitude, Max Temperature, Humidity, Cloudiness, Wind Speed, Country, Date]\n",
       "Index: []"
      ]
     },
     "execution_count": 6,
     "metadata": {},
     "output_type": "execute_result"
    }
   ],
   "source": [
    "#Confirming no cities have humidity over 100%.\n",
    "humidity_over_100 = cities_df.loc[cities_df[\"Humidity\"] > 100]\n",
    "humidity_over_100.head()"
   ]
  },
  {
   "cell_type": "markdown",
   "metadata": {},
   "source": [
    "## Plotting the Data\n",
    "* Use proper labelling of the plots using plot titles (including date of analysis) and axes labels.\n",
    "* Save the plotted figures as .pngs."
   ]
  },
  {
   "cell_type": "markdown",
   "metadata": {},
   "source": [
    "## Latitude vs. Temperature Plot"
   ]
  },
  {
   "cell_type": "code",
   "execution_count": 7,
   "metadata": {
    "scrolled": true
   },
   "outputs": [
    {
     "data": {
      "image/png": "[encoded data removed]",
      "text/plain": [
       "<Figure size 432x288 with 1 Axes>"
      ]
     },
     "metadata": {
      "needs_background": "light"
     },
     "output_type": "display_data"
    }
   ],
   "source": [
    "plt.scatter(cities_df[\"Latitude\"],cities_df[\"Max Temperature\"])\n",
    "plt.xlabel(\"Latitude\")\n",
    "plt.ylabel(\"Max Temperature (C)\")\n",
    "plt.title(\"City Latitude vs. Max Temperature (08/08/2022)\");\n",
    "plt.savefig(\"../output_data/Fig 1\")"
   ]
  },
  {
   "cell_type": "markdown",
   "metadata": {},
   "source": [
    "The above scatter plot indicates that as cities get closer to the equator, where Latitude is 0, the Cities' Max Temperature is going to be hotter than cities further away from the equator. Additionally, it shows that for the date that the data was requested it was Summer in the Northern Hemispher as overall the cities above the Equator, where Latitude is greater than 0, are generally higher than the temperature of the cities below the Equator."
   ]
  },
  {
   "cell_type": "markdown",
   "metadata": {},
   "source": [
    "## Latitude vs. Humidity Plot"
   ]
  },
  {
   "cell_type": "code",
   "execution_count": 8,
   "metadata": {
    "scrolled": true
   },
   "outputs": [
    {
     "data": {
      "image/png": "[encoded data removed]",
      "text/plain": [
       "<Figure size 432x288 with 1 Axes>"
      ]
     },
     "metadata": {
      "needs_background": "light"
     },
     "output_type": "display_data"
    }
   ],
   "source": [
    "plt.scatter(cities_df[\"Latitude\"],cities_df[\"Humidity\"])\n",
    "plt.xlabel(\"Latitude\")\n",
    "plt.ylabel(\"Humidity (%)\")\n",
    "plt.title(\"City Latitude vs. Humidity (08/08/2022)\");\n",
    "plt.savefig(\"../output_data/Fig 2\")"
   ]
  },
  {
   "cell_type": "markdown",
   "metadata": {},
   "source": [
    "This scatter plot is analysing whether there is a relationship between the humidity of a city to its latitude. It seems that overall the sample cities have a humidity over 40% on the day the data is pulled."
   ]
  },
  {
   "cell_type": "markdown",
   "metadata": {},
   "source": [
    "## Latitude vs. Cloudiness Plot"
   ]
  },
  {
   "cell_type": "code",
   "execution_count": 9,
   "metadata": {
    "scrolled": true
   },
   "outputs": [
    {
     "data": {
      "image/png": "[encoded data removed]",
      "text/plain": [
       "<Figure size 432x288 with 1 Axes>"
      ]
     },
     "metadata": {
      "needs_background": "light"
     },
     "output_type": "display_data"
    }
   ],
   "source": [
    "plt.scatter(cities_df[\"Latitude\"],cities_df[\"Cloudiness\"])\n",
    "plt.xlabel(\"Latitude\")\n",
    "plt.ylabel(\"Cloudiness (%)\")\n",
    "plt.title(\"City Latitude vs. Cloudiness (08/08/2022)\");\n",
    "plt.savefig(\"../output_data/Fig 3\")"
   ]
  },
  {
   "cell_type": "markdown",
   "metadata": {},
   "source": [
    "In this scatter plot the Cloudiness of the sample city is being plotted against the cities' Latitude. It seems that the Cloudiness is not correlated to the Latitude of the city."
   ]
  },
  {
   "cell_type": "markdown",
   "metadata": {},
   "source": [
    "## Latitude vs. Wind Speed Plot"
   ]
  },
  {
   "cell_type": "code",
   "execution_count": 10,
   "metadata": {
    "scrolled": true
   },
   "outputs": [
    {
     "data": {
      "image/png": "[encoded data removed]",
      "text/plain": [
       "<Figure size 432x288 with 1 Axes>"
      ]
     },
     "metadata": {
      "needs_background": "light"
     },
     "output_type": "display_data"
    }
   ],
   "source": [
    "plt.scatter(cities_df[\"Latitude\"],cities_df[\"Wind Speed\"])\n",
    "plt.xlabel(\"Latitude\")\n",
    "plt.ylabel(\"Wind Speed (m/s)\")\n",
    "plt.title(\"City Latitude vs. Wind Speed (08/08/2022)\");\n",
    "plt.savefig(\"../output_data/Fig 4\")"
   ]
  },
  {
   "cell_type": "markdown",
   "metadata": {},
   "source": [
    "Above we are plotting Wind Speed against the Latitude of the sample cities."
   ]
  },
  {
   "cell_type": "markdown",
   "metadata": {},
   "source": [
    "## Linear Regression"
   ]
  },
  {
   "cell_type": "code",
   "execution_count": 11,
   "metadata": {},
   "outputs": [],
   "source": [
    "# Create two dataframes for both hemispheres\n",
    "northern_hemi = cities_df.loc[cities_df[\"Latitude\"] > 0]\n",
    "southern_hemi = cities_df.loc[cities_df[\"Latitude\"] < 0]"
   ]
  },
  {
   "cell_type": "markdown",
   "metadata": {},
   "source": [
    "###  Max Temp vs. Latitude Linear Regression"
   ]
  },
  {
   "cell_type": "markdown",
   "metadata": {},
   "source": [
    "####  Northern Hemisphere - Max Temp vs. Latitude Linear Regression"
   ]
  },
  {
   "cell_type": "code",
   "execution_count": 24,
   "metadata": {
    "scrolled": true
   },
   "outputs": [
    {
     "name": "stdout",
     "output_type": "stream",
     "text": [
      "The r-value is: -0.6262466555623246\n"
     ]
    },
    {
     "data": {
      "image/png": "[encoded data removed]",
      "text/plain": [
       "<Figure size 432x288 with 1 Axes>"
      ]
     },
     "metadata": {
      "needs_background": "light"
     },
     "output_type": "display_data"
    }
   ],
   "source": [
    "x_values = northern_hemi[\"Latitude\"]\n",
    "y_values = northern_hemi[\"Max Temperature\"]\n",
    "\n",
    "(slope, intercept, rvalue, pvalue, stderr) = linregress(x_values, y_values)\n",
    "regress_values = x_values * slope + intercept\n",
    "line_eq = \"y = \" + str(round(slope,2)) + \"x + \" + str(round(intercept,2))\n",
    "plt.scatter(x_values, y_values)\n",
    "plt.plot(x_values,regress_values,\"r-\")\n",
    "plt.annotate(line_eq,(5,0),fontsize=15,color=\"red\")\n",
    "plt.ylabel(\"Max Temperature (C)\")\n",
    "plt.xlabel(\"Latitude\")\n",
    "print(f\"The r-value is: {rvalue}\")\n",
    "plt.show();"
   ]
  },
  {
   "cell_type": "markdown",
   "metadata": {},
   "source": [
    "The above table is demonstrating the relationship between a cities Latitude and it's Max Temperature. The R-Value indicates a fairly strong relationship that the further north (a greater Latitude figure) the lower the temperature."
   ]
  },
  {
   "cell_type": "markdown",
   "metadata": {},
   "source": [
    "####  Southern Hemisphere - Max Temp vs. Latitude Linear Regression"
   ]
  },
  {
   "cell_type": "code",
   "execution_count": 23,
   "metadata": {
    "scrolled": true
   },
   "outputs": [
    {
     "name": "stdout",
     "output_type": "stream",
     "text": [
      "The r-value is: 0.803359791940072\n"
     ]
    },
    {
     "data": {
      "image/png": "[encoded data removed]",
      "text/plain": [
       "<Figure size 432x288 with 1 Axes>"
      ]
     },
     "metadata": {
      "needs_background": "light"
     },
     "output_type": "display_data"
    }
   ],
   "source": [
    "x_values = southern_hemi[\"Latitude\"]\n",
    "y_values = southern_hemi[\"Max Temperature\"]\n",
    "\n",
    "(slope, intercept, rvalue, pvalue, stderr) = linregress(x_values, y_values)\n",
    "regress_values = x_values * slope + intercept\n",
    "line_eq = \"y = \" + str(round(slope,2)) + \"x + \" + str(round(intercept,2))\n",
    "plt.scatter(x_values, y_values)\n",
    "plt.plot(x_values,regress_values,\"r-\")\n",
    "plt.annotate(line_eq,(-50,30),fontsize=15,color=\"red\")\n",
    "plt.ylabel(\"Max Temperature (C)\")\n",
    "plt.xlabel(\"Latitude\")\n",
    "print(f\"The r-value is: {rvalue}\")\n",
    "plt.show();"
   ]
  },
  {
   "cell_type": "markdown",
   "metadata": {},
   "source": [
    "In comparison to the Northern Hemisphere, for the Southen Hemisphere the further south (a smaller Latitude figure) the temperature will get lower. The R-Value indicates a strong relationship between a Souther Hemisphere's city's Latitude and Max Temperature."
   ]
  },
  {
   "cell_type": "markdown",
   "metadata": {},
   "source": [
    "### Humidity (%) vs. Latitude Linear Regression"
   ]
  },
  {
   "cell_type": "markdown",
   "metadata": {},
   "source": [
    "####  Northern Hemisphere - Humidity (%) vs. Latitude Linear Regression"
   ]
  },
  {
   "cell_type": "code",
   "execution_count": 25,
   "metadata": {
    "scrolled": true
   },
   "outputs": [
    {
     "name": "stdout",
     "output_type": "stream",
     "text": [
      "The r-value is: 0.02157559338863701\n"
     ]
    },
    {
     "data": {
      "image/png": "[encoded data removed]",
      "text/plain": [
       "<Figure size 432x288 with 1 Axes>"
      ]
     },
     "metadata": {
      "needs_background": "light"
     },
     "output_type": "display_data"
    }
   ],
   "source": [
    "x_values = northern_hemi[\"Latitude\"]\n",
    "y_values = northern_hemi[\"Humidity\"]\n",
    "\n",
    "(slope, intercept, rvalue, pvalue, stderr) = linregress(x_values, y_values)\n",
    "regress_values = x_values * slope + intercept\n",
    "line_eq = \"y = \" + str(round(slope,2)) + \"x + \" + str(round(intercept,2))\n",
    "plt.scatter(x_values, y_values)\n",
    "plt.plot(x_values,regress_values,\"r-\")\n",
    "plt.annotate(line_eq,(5,20),fontsize=15,color=\"red\")\n",
    "plt.ylabel(\"Humidity (%)\")\n",
    "plt.xlabel(\"Latitude\")\n",
    "print(f\"The r-value is: {rvalue}\")\n",
    "plt.show();"
   ]
  },
  {
   "cell_type": "markdown",
   "metadata": {},
   "source": [
    "The above scatter plot shows a cities' Latitude to its Humidity. While there is a very slight positive linear regression the r-value is far too low to indicate a correlation."
   ]
  },
  {
   "cell_type": "markdown",
   "metadata": {},
   "source": [
    "####  Southern Hemisphere - Humidity (%) vs. Latitude Linear Regression"
   ]
  },
  {
   "cell_type": "code",
   "execution_count": 26,
   "metadata": {
    "scrolled": true
   },
   "outputs": [
    {
     "name": "stdout",
     "output_type": "stream",
     "text": [
      "The r-value is: -0.1665267198639446\n"
     ]
    },
    {
     "data": {
      "image/png": "[encoded data removed]",
      "text/plain": [
       "<Figure size 432x288 with 1 Axes>"
      ]
     },
     "metadata": {
      "needs_background": "light"
     },
     "output_type": "display_data"
    }
   ],
   "source": [
    "x_values = southern_hemi[\"Latitude\"]\n",
    "y_values = southern_hemi[\"Humidity\"]\n",
    "\n",
    "(slope, intercept, rvalue, pvalue, stderr) = linregress(x_values, y_values)\n",
    "regress_values = x_values * slope + intercept\n",
    "line_eq = \"y = \" + str(round(slope,2)) + \"x + \" + str(round(intercept,2))\n",
    "plt.scatter(x_values, y_values)\n",
    "plt.plot(x_values,regress_values,\"r-\")\n",
    "plt.annotate(line_eq,(-50,20),fontsize=15,color=\"red\")\n",
    "plt.ylabel(\"Humidity (%)\")\n",
    "plt.xlabel(\"Latitude\")\n",
    "print(f\"The r-value is: {rvalue}\")\n",
    "plt.show();"
   ]
  },
  {
   "cell_type": "markdown",
   "metadata": {},
   "source": [
    "While the Northern Hemispher has a positive linear regression between Humidity and Latitude, the Southern Hemisphere has a negative linear regression. The r-value is greater but I believe this is due to the smaller sample size compared to the Northern Hemisphere."
   ]
  },
  {
   "cell_type": "markdown",
   "metadata": {},
   "source": [
    "### Cloudiness (%) vs. Latitude Linear Regression"
   ]
  },
  {
   "cell_type": "markdown",
   "metadata": {},
   "source": [
    "####  Northern Hemisphere - Cloudiness (%) vs. Latitude Linear Regression"
   ]
  },
  {
   "cell_type": "code",
   "execution_count": 27,
   "metadata": {},
   "outputs": [
    {
     "name": "stdout",
     "output_type": "stream",
     "text": [
      "The r-value is: -0.016668342569532743\n"
     ]
    },
    {
     "data": {
      "image/png": "[encoded data removed]",
      "text/plain": [
       "<Figure size 432x288 with 1 Axes>"
      ]
     },
     "metadata": {
      "needs_background": "light"
     },
     "output_type": "display_data"
    }
   ],
   "source": [
    "x_values = northern_hemi[\"Latitude\"]\n",
    "y_values = northern_hemi[\"Cloudiness\"]\n",
    "\n",
    "(slope, intercept, rvalue, pvalue, stderr) = linregress(x_values, y_values)\n",
    "regress_values = x_values * slope + intercept\n",
    "line_eq = \"y = \" + str(round(slope,2)) + \"x + \" + str(round(intercept,2))\n",
    "plt.scatter(x_values, y_values)\n",
    "plt.plot(x_values,regress_values,\"r-\")\n",
    "plt.annotate(line_eq,(5,10),fontsize=15,color=\"red\")\n",
    "plt.ylabel(\"Cloudiness (%)\")\n",
    "plt.xlabel(\"Latitude\")\n",
    "print(f\"The r-value is: {rvalue}\")\n",
    "plt.show();"
   ]
  },
  {
   "cell_type": "markdown",
   "metadata": {},
   "source": [
    "####  Southern Hemisphere - Cloudiness (%) vs. Latitude Linear Regression"
   ]
  },
  {
   "cell_type": "code",
   "execution_count": 28,
   "metadata": {},
   "outputs": [
    {
     "name": "stdout",
     "output_type": "stream",
     "text": [
      "The r-value is: 0.0813657031794509\n"
     ]
    },
    {
     "data": {
      "image/png": "[encoded data removed]",
      "text/plain": [
       "<Figure size 432x288 with 1 Axes>"
      ]
     },
     "metadata": {
      "needs_background": "light"
     },
     "output_type": "display_data"
    }
   ],
   "source": [
    "x_values = southern_hemi[\"Latitude\"]\n",
    "y_values = southern_hemi[\"Cloudiness\"]\n",
    "\n",
    "(slope, intercept, rvalue, pvalue, stderr) = linregress(x_values, y_values)\n",
    "regress_values = x_values * slope + intercept\n",
    "line_eq = \"y = \" + str(round(slope,2)) + \"x + \" + str(round(intercept,2))\n",
    "plt.scatter(x_values, y_values)\n",
    "plt.plot(x_values,regress_values,\"r-\")\n",
    "plt.annotate(line_eq,(-50,10),fontsize=15,color=\"red\")\n",
    "plt.ylabel(\"Cloudiness (%)\")\n",
    "plt.xlabel(\"Latitude\")\n",
    "print(f\"The r-value is: {rvalue}\")\n",
    "plt.show();"
   ]
  },
  {
   "cell_type": "markdown",
   "metadata": {},
   "source": [
    "Both plots are plotting the relationship between a cities' Latitude and Cloudiness. In neither linear regression is there indication of a relationship between Latitude and Cloudiness."
   ]
  },
  {
   "cell_type": "markdown",
   "metadata": {},
   "source": [
    "### Wind Speed (m/s) vs. Latitude Linear Regression"
   ]
  },
  {
   "cell_type": "markdown",
   "metadata": {},
   "source": [
    "####  Northern Hemisphere - Wind Speed (mph) vs. Latitude Linear Regression"
   ]
  },
  {
   "cell_type": "code",
   "execution_count": 17,
   "metadata": {},
   "outputs": [
    {
     "name": "stdout",
     "output_type": "stream",
     "text": [
      "The r-value is: -0.0983264826639464\n"
     ]
    },
    {
     "data": {
      "image/png": "[encoded data removed]",
      "text/plain": [
       "<Figure size 432x288 with 1 Axes>"
      ]
     },
     "metadata": {
      "needs_background": "light"
     },
     "output_type": "display_data"
    }
   ],
   "source": [
    "x_values = northern_hemi[\"Latitude\"]\n",
    "y_values = northern_hemi[\"Wind Speed\"]\n",
    "\n",
    "(slope, intercept, rvalue, pvalue, stderr) = linregress(x_values, y_values)\n",
    "regress_values = x_values * slope + intercept\n",
    "line_eq = \"y = \" + str(round(slope,2)) + \"x + \" + str(round(intercept,2))\n",
    "plt.scatter(x_values, y_values)\n",
    "plt.plot(x_values,regress_values,\"r-\")\n",
    "plt.annotate(line_eq,(5.8,0.8),fontsize=15,color=\"red\")\n",
    "plt.ylabel(\"Wind Speed (m/s)\")\n",
    "plt.xlabel(\"Latitude\")\n",
    "print(f\"The r-value is: {rvalue}\")\n",
    "plt.show();"
   ]
  },
  {
   "cell_type": "markdown",
   "metadata": {},
   "source": [
    "####  Southern Hemisphere - Wind Speed (mph) vs. Latitude Linear Regression"
   ]
  },
  {
   "cell_type": "code",
   "execution_count": 29,
   "metadata": {},
   "outputs": [
    {
     "name": "stdout",
     "output_type": "stream",
     "text": [
      "The r-value is: 0.050940108939229074\n"
     ]
    },
    {
     "data": {
      "image/png": "[encoded data removed]",
      "text/plain": [
       "<Figure size 432x288 with 1 Axes>"
      ]
     },
     "metadata": {
      "needs_background": "light"
     },
     "output_type": "display_data"
    }
   ],
   "source": [
    "x_values = southern_hemi[\"Latitude\"]\n",
    "y_values = southern_hemi[\"Wind Speed\"]\n",
    "\n",
    "(slope, intercept, rvalue, pvalue, stderr) = linregress(x_values, y_values)\n",
    "regress_values = x_values * slope + intercept\n",
    "line_eq = \"y = \" + str(round(slope,2)) + \"x + \" + str(round(intercept,2))\n",
    "plt.scatter(x_values, y_values)\n",
    "plt.plot(x_values,regress_values,\"r-\")\n",
    "plt.annotate(line_eq,(-50,12),fontsize=15,color=\"red\")\n",
    "plt.ylabel(\"Wind Speed (m/s)\")\n",
    "plt.xlabel(\"Latitude\")\n",
    "print(f\"The r-value is: {rvalue}\")\n",
    "plt.show();"
   ]
  },
  {
   "cell_type": "markdown",
   "metadata": {},
   "source": [
    "In the final pair of graphs, there is again no relationship between a cities' Wind Speed and Latitude as the r-value is very low. Both graphs have a very small slope so it seems that across the globa the windspeed is roughly the same."
   ]
  }
 ],
 "metadata": {
  "anaconda-cloud": {},
  "kernel_info": {
   "name": "python3"
  },
  "kernelspec": {
   "display_name": "Python 3 (ipykernel)",
   "language": "python",
   "name": "python3"
  },
  "language_info": {
   "codemirror_mode": {
    "name": "ipython",
    "version": 3
   },
   "file_extension": ".py",
   "mimetype": "text/x-python",
   "name": "python",
   "nbconvert_exporter": "python",
   "pygments_lexer": "ipython3",
   "version": "3.9.12"
  },
  "latex_envs": {
   "LaTeX_envs_menu_present": true,
   "autoclose": false,
   "autocomplete": true,
   "bibliofile": "biblio.bib",
   "cite_by": "apalike",
   "current_citInitial": 1,
   "eqLabelWithNumbers": true,
   "eqNumInitial": 1,
   "hotkeys": {
    "equation": "Ctrl-E",
    "itemize": "Ctrl-I"
   },
   "labels_anchors": false,
   "latex_user_defs": false,
   "report_style_numbering": false,
   "user_envs_cfg": false
  },
  "nteract": {
   "version": "0.12.3"
  }
 },
 "nbformat": 4,
 "nbformat_minor": 2
}
